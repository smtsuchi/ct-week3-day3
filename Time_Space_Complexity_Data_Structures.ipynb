{
 "cells": [
  {
   "cell_type": "markdown",
   "metadata": {},
   "source": [
    "# Time/Space Complexity - Intro to Data Structures (User Defined)\n",
    "\n",
    "### Topics to discuss today:\n",
    "\n",
    "<ul>\n",
    "    <li>Time and Space Complexity - What is it/How do we measure it</li>\n",
    "    <li>Asymptotic Analysis</li>\n",
    "    <li><strong>Data Structures</strong></li>\n",
    "</ul>\n",
    "\n",
    "### Data Structures to discuss:\n",
    "- Arrays\n",
    "- Stacks\n",
    "- Queues\n",
    "- Linked Lists\n",
    "    - Singly Linked Lists\n",
    "    - Traversing A Linked List\n",
    "    - Finding a node in a linked list\n",
    "    - Adding to a linked list\n",
    "- Binary Search Trees\n",
    "    - Construction\n",
    "    - Traversal\n"
   ]
  },
  {
   "cell_type": "markdown",
   "metadata": {},
   "source": [
    "## Time and Space Complexity\n",
    "\n",
    "#### What is it?\n",
    "\n",
    "Time and space complexity is the measure of how much time a given action(function) will take to solve a problem. In the same fashion, we determine how much a given data structure will need in terms of memory allocation. A problem can have multiple solutions and finding the optimal solution for the problem needs to be analyzed in time and space.\n",
    "\n",
    "#### How do we measure Time and Space Complexity?\n",
    "\n",
    "In order to measure time and space complexity we use Asymptotic analysis. The reason for this is because we need a way to measure different algorithms (functions) based on the size of their inputs in a mathmatical way. For example, we could have a function that is computed as f(n) and another that is g(n^2). All things around the function staying constant, the only thing that changes is the size of the input. Below is the chart that shows the different Asymptotic analysis formats. "
   ]
  },
  {
   "cell_type": "markdown",
   "metadata": {},
   "source": [
    "<table style=\"text-align:center;\" class=\"table table-bordered\">\n",
    "<tbody><tr>\n",
    "<td>constant</td>\n",
    "<td>−</td>\n",
    "<td>Ο(1)</td>\n",
    "</tr>\n",
    "<tr>\n",
    "<td>logarithmic</td>\n",
    "<td>−</td>\n",
    "<td>Ο(log n)</td>\n",
    "</tr>\n",
    "<tr>\n",
    "<td>linear</td>\n",
    "<td>−</td>\n",
    "<td>Ο(n)</td>\n",
    "</tr>\n",
    "<tr>\n",
    "<td>Linear Logarithmic</td>\n",
    "<td>−</td>\n",
    "<td>Ο(n log n)</td>\n",
    "</tr>\n",
    "<tr>\n",
    "<td>quadratic</td>\n",
    "<td>−</td>\n",
    "<td>Ο(n<sup>2</sup>)</td>\n",
    "</tr>\n",
    "<tr>\n",
    "<td>cubic</td>\n",
    "<td>−</td>\n",
    "<td>Ο(n<sup>3</sup>)</td>\n",
    "</tr>\n",
    "<tr>\n",
    "<td>polynomial</td>\n",
    "<td>−</td>\n",
    "<td>n<sup>Ο(1)</sup></td>\n",
    "</tr>\n",
    "<tr>\n",
    "<td>exponential</td>\n",
    "<td>−</td>\n",
    "<td>2<sup>Ο(n)</sup></td>\n",
    "</tr>\n",
    "</tbody></table>"
   ]
  },
  {
   "cell_type": "markdown",
   "metadata": {},
   "source": [
    "## Arrays"
   ]
  },
  {
   "cell_type": "markdown",
   "metadata": {},
   "source": [
    "In python we benefit from the dynamic array which means the block of memory will expand as needed for the given input to the array. In traditional arrays (depending on the type of operating system) we will usually store our inputs in 4 or 8 consecutive blocks of memory. Below is a diagram of how that looks under the hood:\n",
    "\n",
    "<img src=\"http://www.mathcs.emory.edu/~cheung/Courses/170/Syllabus/09/FIGS/array02x.gif\" style=\"height:250px; width:350px;\">"
   ]
  },
  {
   "cell_type": "markdown",
   "metadata": {},
   "source": [
    "## Which in python looks like this:"
   ]
  },
  {
   "cell_type": "code",
   "execution_count": 3,
   "metadata": {},
   "outputs": [
    {
     "name": "stdout",
     "output_type": "stream",
     "text": [
      "[23, 4, 6, 15, 5, 23]\n"
     ]
    }
   ],
   "source": [
    "array = [23, 4, 6, 15, 5, 23]\n",
    "print(array)"
   ]
  },
  {
   "cell_type": "markdown",
   "metadata": {},
   "source": [
    "### Let's take a look at some of the time and space analysis of arrays"
   ]
  },
  {
   "cell_type": "code",
   "execution_count": 7,
   "metadata": {},
   "outputs": [],
   "source": [
    "# Indexing an Array(list)\n",
    "# Constant time and space - O(1)\n",
    "indexing = array[1]\n",
    "\n",
    "# Searching through an array(list)\n",
    "# linear time = O(n) Constant Space - O(1)\n",
    "for i in array:\n",
    "    print(i)\n",
    "    \n",
    "# Copying an array\n",
    "# linear time - O(n) and lianear space - O(n)\n",
    "copy_array = array[:]\n",
    "\n",
    "# Setting an index in an array(list)\n",
    "# Constant time - O(1) and constant space - O(1)\n",
    "array[2] = 3\n"
   ]
  },
  {
   "cell_type": "markdown",
   "metadata": {},
   "source": [
    "## Stacks and Queues (Review)\n",
    "\n",
    "** Stacks ** as the name suggests is a data structure that allows for data to follow the Last In First Out priciple(LIFO). Think of a stack of pancakes for example. To get the first pancake you would  start with the top and go down.\n",
    "\n",
    "##### Searching through a stack will be Linear Time O(n) - Constant Space O(1)\n",
    "##### Selecting the last item will be done in Constant Time O(1) - Constant Space O(1)\n",
    "##### Adding to the stack should take Constant Time O(1) - Constant Space O(1)\n",
    "\n",
    "** Queues ** are similar but in this case follow the First In First Out principle(FIFO). Think of this as a line in a black friday sale. The first person camped out for the big screen tv is the first to get it.\n",
    "\n",
    "##### Searching through a queue will be Linear Time O(n) - Constant Space O(1)\n",
    "##### Selecting the first item will be done in Constant Time O(1) - Constant Space O(1)\n",
    "##### Adding to the queue should take Constant Time O(1) - Constant Space O(1)"
   ]
  },
  {
   "cell_type": "code",
   "execution_count": 11,
   "metadata": {},
   "outputs": [
    {
     "name": "stdout",
     "output_type": "stream",
     "text": [
      "30\n",
      "10\n",
      "20\n",
      "Bob\n",
      "Mary\n",
      "Misty\n"
     ]
    }
   ],
   "source": [
    "stack = []\n",
    "stack.append(10)\n",
    "stack.append(20)\n",
    "stack.append(30)\n",
    "\n",
    "last_item = stack.pop()\n",
    "print(last_item)\n",
    "\n",
    "# Searching a stack - linear time O(n) - Constant Space - O(1)\n",
    "for i in stack:\n",
    "    print(i)\n",
    "\n",
    "queue = []\n",
    "queue.append('Bob')\n",
    "queue.append('Mary')\n",
    "queue.append('Misty')\n",
    "\n",
    "first_item = queue.pop(0)\n",
    "print(first_item)\n",
    "\n",
    "# Searching a queue - linear time O(n) - Constant Space - O(1)\n",
    "for i in queue:\n",
    "    print(i)"
   ]
  },
  {
   "cell_type": "markdown",
   "metadata": {},
   "source": [
    "## Linked List (Data Structure)\n",
    "\n",
    "A linked list is created by using the node class. We create a Node object and create another class to use this node object. We pass the appropriate values thorugh the node object to point the to the next data elements.\n",
    "\n",
    "There are some advantages and disadvantages with this data structure. **Advantages** Linked Lists can save memory because they can be flexibile with memory management which saves memory. **Disadvantages** Finding or adding to the list requires traversing the entire list."
   ]
  },
  {
   "cell_type": "code",
   "execution_count": 3,
   "metadata": {},
   "outputs": [
    {
     "name": "stdout",
     "output_type": "stream",
     "text": [
      "Mon\n",
      "Tues\n",
      "Wed\n"
     ]
    }
   ],
   "source": [
    "class LinkedListNode():\n",
    "    def __init__(self,value):\n",
    "        self.value = value\n",
    "        self.next = None\n",
    "        \n",
    "    def traverseList(self):\n",
    "        node=self\n",
    "        while node != None:\n",
    "            print(node.value)\n",
    "            node=node.next\n",
    "\n",
    "node1 = LinkedListNode('Mon')\n",
    "node2 = LinkedListNode('Tues')\n",
    "node3 = LinkedListNode('Wed')\n",
    "\n",
    "node1.next=node2\n",
    "node2.next=node3\n",
    "\n",
    "node1.traverseList()"
   ]
  },
  {
   "cell_type": "code",
   "execution_count": 22,
   "metadata": {},
   "outputs": [],
   "source": [
    "# A Complete Implementation of a linked list\n",
    "\n",
    "# 2 components to this solution -- a Node class and a linkedlist class\n",
    "\n",
    "class Node():\n",
    "    def __init__(self,value):\n",
    "        self.value = value\n",
    "        self.next = None\n",
    "\n",
    "class LinkedList():\n",
    "    def __init__(self):\n",
    "        self.head = None\n",
    "        \n",
    "    def pushOn(self, new_value):\n",
    "        new_node = Node(new_value) #create a new node instance\n",
    "        new_node.next = self.head # set the next attribute of new node to current front of list\n",
    "        self.head = new_node # set front of list to our new node\n",
    "        \n",
    "    def insertAfter(self, prev_node, new_value):\n",
    "        # Check if previous node exists\n",
    "        if prev_node is None:\n",
    "            print('The given node must not be empty')\n",
    "            return\n",
    "        # if node is not empty, create a new node\n",
    "        new_node = Node(new_value)\n",
    "        \n",
    "        # update the new node's next pointer to point to previous node's old next\n",
    "        new_node.next = prev_node.next\n",
    "        \n",
    "        # update the previous node to point to the new nodes value\n",
    "        prev_node.next = new_node\n",
    "        \n",
    "    # this method will append a new node to the END of our linkedlist\n",
    "    def append(self, new_value):\n",
    "        #Create a new instance of Node\n",
    "        new_node=Node(new_value)\n",
    "        \n",
    "        #check if the linkestlist is empty\n",
    "        # if so, make THIS new node the head node (the beginning of the linkedlist)\n",
    "        if self.head is None:\n",
    "            self.head = new_node\n",
    "            \n",
    "        # BUT if the list is NOT empty - traverse to the end\n",
    "        # and add the NEW node to the end of the list\n",
    "        last = self.head\n",
    "        #while last.next is not None -> continue to loop until we find a None value\n",
    "        while last.next:\n",
    "            last=last.next\n",
    "            \n",
    "        #change current last node next value to point to the new node\n",
    "        last.next = new_node\n",
    "        \n",
    "    def traverse(self):\n",
    "        temp = self.head\n",
    "        # while temp is NOT none -> keep looping through the links until you reach a None\n",
    "        while temp:\n",
    "            print(temp.value)\n",
    "            temp=temp.next"
   ]
  },
  {
   "cell_type": "code",
   "execution_count": 23,
   "metadata": {},
   "outputs": [
    {
     "name": "stdout",
     "output_type": "stream",
     "text": [
      "Mon\n",
      "Tues\n",
      "Wed\n",
      "Thus\n"
     ]
    }
   ],
   "source": [
    "weekday_links = LinkedList()\n",
    "\n",
    "#insert new days into the list\n",
    "weekday_links.pushOn('Mon')\n",
    "weekday_links.append('Tues')\n",
    "weekday_links.append('Thus')\n",
    "weekday_links.insertAfter(weekday_links.head.next, 'Wed')\n",
    "\n",
    "weekday_links.traverse()\n"
   ]
  },
  {
   "cell_type": "markdown",
   "metadata": {},
   "source": [
    "## Binary Search Trees"
   ]
  },
  {
   "cell_type": "code",
   "execution_count": 8,
   "metadata": {},
   "outputs": [],
   "source": [
    "class BST():\n",
    "    def __init__(self,value):\n",
    "        self.value = value # current value\n",
    "        self.left = None\n",
    "        self.right = None\n",
    "        \n",
    "    def insert(self, value):\n",
    "        # if value is less than root node\n",
    "        if value < self.value:\n",
    "            #check if root node has a left attribute (points to left or not)\n",
    "            if self.left is None:\n",
    "                # if not, create new node as left\n",
    "                self.left = BST(value)\n",
    "            else:\n",
    "                #if so, move left and try again (recursive call)\n",
    "                self.left.insert(value)\n",
    "        else:\n",
    "            # if value is greater than or equal to root node\n",
    "            #check if root node has a right attribute\n",
    "            if self.right is None:\n",
    "                #if not, create new node as right\n",
    "                self.right = BST(value)\n",
    "            else: \n",
    "                # if so move right and try again\n",
    "                self.right.insert(value)\n",
    "        return self\n",
    "    \n",
    "    def contains(self, value):\n",
    "        '''\n",
    "        This method accepts an int for its value.\n",
    "        The value parameter is what we are looking for inside of the BST structure\n",
    "        return boolean\n",
    "        '''\n",
    "        # check if value is less than root node\n",
    "        if value < self.value:\n",
    "            # if node doea not have a left, we know that our value is not in BST\n",
    "            if self.left is None:\n",
    "                return False\n",
    "            else:\n",
    "                # move to oleft and try again\n",
    "                return self.left.contains(value)\n",
    "        elif value>self.value:\n",
    "            if self.right is None:\n",
    "                return False\n",
    "            else:\n",
    "                return self.right.contains(value)\n",
    "        # if not less than or greater than, must be equal to\n",
    "        else:\n",
    "            return True\n",
    "        \n",
    "    def getMinValue(self):\n",
    "        # if no nodes to the left, this is the min value\n",
    "        if self.left is None:\n",
    "            return self.value\n",
    "        else:\n",
    "            # otherwise, move to the left andtry again\n",
    "            return self.left.getMinValue()\n",
    "        \n",
    "    def getMaxValue(self):\n",
    "        if self.right is None:\n",
    "            return self.value\n",
    "        return self.right.getMaxValue()\n",
    "    \n",
    "    def remove(self, value, parent=None):\n",
    "        if value<self.value:\n",
    "            if self.left is not None:\n",
    "                self.left.remove(value,self)\n",
    "        elif value > self.value:\n",
    "            if self.right is not None:\n",
    "                self.right.remove(value,self)\n",
    "        else:\n",
    "            if self.left is not None and self.right is not None:\n",
    "                self.value =self.right.getMinValue()\n",
    "                self.right.remove(self.value,self)\n",
    "            elif parent is None:\n",
    "                if self.left is not None:\n",
    "                    self.value = self.left.value\n",
    "                    self.right = self.left.right\n",
    "                    self.left = self.left.left\n",
    "                elif self.right is not None:\n",
    "                    self.value = self.right.value\n",
    "                    self.left = self.right.left\n",
    "                    self.right = self.right.right\n",
    "                else: self.value = None\n",
    "            elif parent.left == self:\n",
    "                parent.left = self.left if self.left is not None else self.right\n",
    "            elif parent.right == self:\n",
    "                parent.right = self.right if self.right is not None else self.right\n",
    "            return self\n",
    "        "
   ]
  },
  {
   "cell_type": "code",
   "execution_count": 11,
   "metadata": {},
   "outputs": [
    {
     "data": {
      "text/plain": [
       "True"
      ]
     },
     "execution_count": 11,
     "metadata": {},
     "output_type": "execute_result"
    }
   ],
   "source": [
    "bst_example = BST(35)\n",
    "bst_example.insert(40)\n",
    "bst_example.insert(45)\n",
    "bst_example.insert(30)\n",
    "bst_example.contains(40)\n",
    "bst_example.remove(40)"
   ]
  },
  {
   "cell_type": "markdown",
   "metadata": {},
   "source": [
    "# Homework"
   ]
  },
  {
   "cell_type": "markdown",
   "metadata": {},
   "source": [
    "#### Problem 1: Linked Lists\n",
    "\n",
    "Using the above examples as a guide, create your own interpretation of the a Linked List class. You can not use the code above exactly, but again it can be used as a guide. This problem requires you to think about how a linked list works and create one using your own logic.\n",
    "\n",
    "*Remember* A Linked List is a list of Nodes that point to the next node in the chain. The first Node starts out as Empty(None) and each node after points to the next.\n",
    "\n",
    "Your Linked List should have a traverse method and have the ability to add a new node"
   ]
  },
  {
   "cell_type": "code",
   "execution_count": 83,
   "metadata": {},
   "outputs": [],
   "source": [
    "# Make a playlist\n",
    "class Song():\n",
    "    def __init__(self, title):\n",
    "        self.title = title\n",
    "        self.next = None\n",
    "        \n",
    "class Playlist():\n",
    "    def __init__(self):\n",
    "        self.head = None\n",
    "        \n",
    "    def playNext(self,newSongTitle):\n",
    "        newSong = Song(newSongTitle)\n",
    "        newSong.next = self.head\n",
    "        self.head=newSong\n",
    "        \n",
    "    def addToQueue(self,newSongTitle):\n",
    "        newSong = Song(newSongTitle)\n",
    "        if self.head is None:\n",
    "            self.head = newSong\n",
    "        checkLast = self.head\n",
    "        while checkLast.next:\n",
    "            checkLast = checkLast.next\n",
    "        checkLast.next = newSong\n",
    "        \n",
    "    def insertAfter(self,songBeforeNewSong, newSongTitle):\n",
    "        if songBeforeNewSong:\n",
    "            newSong = Song(newSongTitle)\n",
    "            newSong.next = songBeforeNewSong.next\n",
    "            songBeforeNewSong.next = newSong\n",
    "            return\n",
    "        print('\\n')\n",
    "        print(f'Cannot add {newSongTitle}')\n",
    "        print('\\n')\n",
    "        \n",
    "    def traverse(self):\n",
    "        currentlyPlaying = self.head\n",
    "        count = 0\n",
    "        while currentlyPlaying:\n",
    "            if count == 0:\n",
    "                print(f'Currently Playing: {currentlyPlaying.title}')\n",
    "                count+=1\n",
    "                currentlyPlaying=currentlyPlaying.next\n",
    "            else:\n",
    "                print(f'... in queue:      {currentlyPlaying.title}')\n",
    "                currentlyPlaying=currentlyPlaying.next"
   ]
  },
  {
   "cell_type": "code",
   "execution_count": 84,
   "metadata": {},
   "outputs": [
    {
     "name": "stdout",
     "output_type": "stream",
     "text": [
      "Currently Playing: GOLD by BROCKHAMPTON\n",
      "... in queue:      Paramedic! by Kendrick Lamar ft. SOB x RBE\n",
      "... in queue:      Mathematics by Mos Def\n",
      "... in queue:      Blue World by Mac Miller\n",
      "... in queue:      Love$ick by Mura Masa ft. A$AP Rocky\n"
     ]
    }
   ],
   "source": [
    "myNewPlaylist=Playlist()\n",
    "myNewPlaylist.playNext('Paramedic! by Kendrick Lamar ft. SOB x RBE')\n",
    "myNewPlaylist.playNext('GOLD by BROCKHAMPTON')\n",
    "myNewPlaylist.addToQueue('Mathematics by Mos Def')\n",
    "myNewPlaylist.addToQueue('Love$ick by Mura Masa ft. A$AP Rocky')\n",
    "myNewPlaylist.insertAfter(myNewPlaylist.head.next.next, 'Blue World by Mac Miller')\n",
    "\n",
    "myNewPlaylist.traverse()"
   ]
  },
  {
   "cell_type": "markdown",
   "metadata": {},
   "source": [
    "#### Problem 2: Binary Search Tree\n",
    "\n",
    "Using the above examples as a guide, create your own interpretation of the a Binary Search Tree class. You can not use the code above exactly, but again it can be used as a guide. This problem requires you to think about how a Binary Search Tree works and create one using your own logic.\n",
    "\n",
    "*Remember* Binary Search Trees start with a head node and each node to the left of that will be smaller, each node to the right of it will be greater. The far left node should be the lowest number(if one exists) that is available. The far right node (if one exists) should be the greatest number"
   ]
  },
  {
   "cell_type": "code",
   "execution_count": 117,
   "metadata": {},
   "outputs": [],
   "source": [
    "class TreeNode():\n",
    "    def __init__(self, value, left=None, right=None):\n",
    "        self.value=value\n",
    "        self.left=left\n",
    "        self.right=right\n",
    "        \n",
    "        \n",
    "    def addNum(self, value):\n",
    "        #right\n",
    "        if value >= self.value:\n",
    "            if self.right is None:\n",
    "                self.right = TreeNode(value)\n",
    "            else:\n",
    "                self.right.addNum(value)\n",
    "                \n",
    "        #left\n",
    "        else:\n",
    "            if self.left is None:\n",
    "                self.left = TreeNode(value)\n",
    "            else:\n",
    "                self.left.addNum(value)\n",
    "        \n",
    "    def contains(self, value):\n",
    "        if value >self:\n",
    "            if self.right is not None:\n",
    "                self.right.contains(value)\n",
    "            else: \n",
    "                print(f'{value} is not in the tree')\n",
    "        elif value <self:\n",
    "            if self.left is not None:\n",
    "                self.left.contains(value)\n",
    "            else:\n",
    "                print(f'{value} is not in the tree')\n",
    "        else:\n",
    "            print(f'{value} is in here somewhere!!!')\n",
    "    def getMin(self):\n",
    "        if self.left is not None:\n",
    "            return self.left.getMin()\n",
    "        else:\n",
    "            return self.value\n",
    "    def getMax(self):\n",
    "        if self.right is not None:\n",
    "            return self.right.getMax()\n",
    "        else:\n",
    "            return self.value\n",
    "            \n",
    "    def removeNum(self,value,parent=None):\n",
    "        #right\n",
    "        if value >self.value:\n",
    "            if self.right is not None:\n",
    "                self.right.removeNum(value,self)\n",
    "        #left\n",
    "        if value < self.value:\n",
    "            if self.left is not None:\n",
    "                self.left.removeNum(value,self)\n",
    "        #equal\n",
    "        else:\n",
    "            if self.left is not None and self.right is not None:\n",
    "                self.value = self.left.getMax()\n",
    "                self.left.remove(self.value,self)\n",
    "            elif parent is None:\n",
    "                if self.left is not None:\n",
    "                    self.value = self.left.value\n",
    "                    self.right = self.left.right\n",
    "                    self.left= self.left.left\n",
    "                if self.right is not None:\n",
    "                    self.value = self.right.value\n",
    "                    self.left=self.right.left\n",
    "                    self.right=self.right.right\n",
    "                else: \n",
    "                    self.value = None\n",
    "            elif parent.left == self:\n",
    "                if self.left is not None:\n",
    "                    parent.left=self.left\n",
    "                else:\n",
    "                    parent.left=self.right\n",
    "            elif parent.right == self:\n",
    "                if self.right is not None:\n",
    "                    parent.right = self.right\n",
    "                else:\n",
    "                    parent.right = self.left\n",
    "            return self\n",
    "                \n",
    "        \n"
   ]
  },
  {
   "cell_type": "code",
   "execution_count": 118,
   "metadata": {},
   "outputs": [
    {
     "name": "stdout",
     "output_type": "stream",
     "text": [
      "2\n",
      "11\n",
      "3\n",
      "10\n",
      "11\n",
      "None\n"
     ]
    }
   ],
   "source": [
    "tree = TreeNode(10)\n",
    "tree.addNum(2)\n",
    "tree.addNum(3)\n",
    "tree.addNum(11)\n",
    "print(tree.getMin())\n",
    "print(tree.getMax())\n",
    "tree.removeNum(2)\n",
    "print(tree.getMin())\n",
    "tree.removeNum(3)\n",
    "print(tree.getMin())\n",
    "tree.removeNum(10)\n",
    "print(tree.getMin())\n",
    "tree.removeNum(11)\n",
    "print(tree.getMin())"
   ]
  }
 ],
 "metadata": {
  "kernelspec": {
   "display_name": "Python 3",
   "language": "python",
   "name": "python3"
  },
  "language_info": {
   "codemirror_mode": {
    "name": "ipython",
    "version": 3
   },
   "file_extension": ".py",
   "mimetype": "text/x-python",
   "name": "python",
   "nbconvert_exporter": "python",
   "pygments_lexer": "ipython3",
   "version": "3.8.5"
  }
 },
 "nbformat": 4,
 "nbformat_minor": 2
}
